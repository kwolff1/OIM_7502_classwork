{
 "cells": [
  {
   "cell_type": "markdown",
   "id": "c441e4ca",
   "metadata": {},
   "source": [
    "# Assignment 2\n",
    "* In this assignment you will be working with three data files from iMDB:\n",
    "    * cast.csv\n",
    "    * release_dates.csv\n",
    "    * titles.csv\n",
    "* Using the appropriate file(s), answer the following questions\n",
    "* Some questions can be completed with one-liners while others are a bit more involved\n",
    "* Where appropriate, answers should also provide brief commentary\n",
    "* Exclude data that doen't make senss, i.e. data from the future\n",
    "* Once complete upload this notebook to your classwork Github repo and post the link on Canvas "
   ]
  },
  {
   "cell_type": "code",
   "execution_count": 1,
   "id": "f4594546",
   "metadata": {},
   "outputs": [],
   "source": [
    "import numpy as np\n",
    "import pandas as pd\n",
    "import matplotlib.pyplot as plt\n",
    "\n",
    "cast = pd.read_csv(\"C:/Users/kylew/OneDrive - Babson College/Desktop/OIM7502_SP25/data/cast.csv\")\n",
    "release_dates = pd.read_csv(\"C:/Users/kylew/OneDrive - Babson College/Desktop/OIM7502_SP25/data/release_dates.csv\")\n",
    "titles = pd.read_csv(\"C:/Users/kylew/OneDrive - Babson College/Desktop/OIM7502_SP25/data/titles.csv\")"
   ]
  },
  {
   "cell_type": "markdown",
   "id": "7f3efd04",
   "metadata": {},
   "source": [
    "### 1. Conduct a high level assessment of the three data files, i.e. how many records are there, what kind of data, etc. Summarize your findings with annotation. "
   ]
  },
  {
   "cell_type": "code",
   "execution_count": 3,
   "id": "03bc8314",
   "metadata": {},
   "outputs": [
    {
     "name": "stdout",
     "output_type": "stream",
     "text": [
      "CAST\n",
      "(3442902, 6)\n",
      "<class 'pandas.core.frame.DataFrame'>\n",
      "RangeIndex: 3442902 entries, 0 to 3442901\n",
      "Data columns (total 6 columns):\n",
      " #   Column     Dtype  \n",
      "---  ------     -----  \n",
      " 0   title      object \n",
      " 1   year       int64  \n",
      " 2   name       object \n",
      " 3   type       object \n",
      " 4   character  object \n",
      " 5   n          float64\n",
      "dtypes: float64(1), int64(1), object(4)\n",
      "memory usage: 157.6+ MB\n",
      "None\n",
      "RELEASE DATES\n",
      "(443486, 4)\n",
      "<class 'pandas.core.frame.DataFrame'>\n",
      "RangeIndex: 443486 entries, 0 to 443485\n",
      "Data columns (total 4 columns):\n",
      " #   Column   Non-Null Count   Dtype \n",
      "---  ------   --------------   ----- \n",
      " 0   title    443485 non-null  object\n",
      " 1   year     443486 non-null  int64 \n",
      " 2   country  443486 non-null  object\n",
      " 3   date     443486 non-null  object\n",
      "dtypes: int64(1), object(3)\n",
      "memory usage: 13.5+ MB\n",
      "None\n",
      "TITLES\n",
      "(226013, 2)\n",
      "<class 'pandas.core.frame.DataFrame'>\n",
      "RangeIndex: 226013 entries, 0 to 226012\n",
      "Data columns (total 2 columns):\n",
      " #   Column  Non-Null Count   Dtype \n",
      "---  ------  --------------   ----- \n",
      " 0   title   226012 non-null  object\n",
      " 1   year    226013 non-null  int64 \n",
      "dtypes: int64(1), object(1)\n",
      "memory usage: 3.4+ MB\n",
      "None\n"
     ]
    }
   ],
   "source": [
    "print(\"CAST\")\n",
    "print(cast.shape)\n",
    "print(cast.info())\n",
    "\n",
    "print(\"RELEASE DATES\")\n",
    "print(release_dates.shape)\n",
    "print(release_dates.info())\n",
    "\n",
    "print(\"TITLES\")\n",
    "print(titles.shape)\n",
    "print(titles.info())"
   ]
  },
  {
   "cell_type": "markdown",
   "id": "6ae8d16c-7b79-46f6-b95c-976b1aaaf3cb",
   "metadata": {},
   "source": [
    "The cast dataset has 3.4 million rows and six columns: title, year, name, type, character, and n. It lists the cast members for each movie title with their name and character name. The release date dataset has 443,486 rows and four columns: title, year, country, and date. This dataset basically contains the release date information for movies in different countries. The title dataset has 226,013 rows and two columns: title and year. This dataset is a basic list of the movie titles and the year they were released."
   ]
  },
  {
   "cell_type": "markdown",
   "id": "8949aee1",
   "metadata": {},
   "source": [
    "### 2. How many movies have the title North by Northwest"
   ]
  },
  {
   "cell_type": "code",
   "execution_count": 13,
   "id": "712cba84",
   "metadata": {},
   "outputs": [
    {
     "data": {
      "text/html": [
       "<div>\n",
       "<style scoped>\n",
       "    .dataframe tbody tr th:only-of-type {\n",
       "        vertical-align: middle;\n",
       "    }\n",
       "\n",
       "    .dataframe tbody tr th {\n",
       "        vertical-align: top;\n",
       "    }\n",
       "\n",
       "    .dataframe thead th {\n",
       "        text-align: right;\n",
       "    }\n",
       "</style>\n",
       "<table border=\"1\" class=\"dataframe\">\n",
       "  <thead>\n",
       "    <tr style=\"text-align: right;\">\n",
       "      <th></th>\n",
       "      <th>title</th>\n",
       "      <th>year</th>\n",
       "    </tr>\n",
       "  </thead>\n",
       "  <tbody>\n",
       "    <tr>\n",
       "      <th>201761</th>\n",
       "      <td>North by Northwest</td>\n",
       "      <td>1959</td>\n",
       "    </tr>\n",
       "  </tbody>\n",
       "</table>\n",
       "</div>"
      ],
      "text/plain": [
       "                     title  year\n",
       "201761  North by Northwest  1959"
      ]
     },
     "execution_count": 13,
     "metadata": {},
     "output_type": "execute_result"
    }
   ],
   "source": [
    "titles[titles.title == 'North by Northwest']"
   ]
  },
  {
   "cell_type": "markdown",
   "id": "195fcf77-0ca4-4a9c-9dd4-74335cef8605",
   "metadata": {},
   "source": [
    "There is one movie with the title North by Northwest"
   ]
  },
  {
   "cell_type": "markdown",
   "id": "651191f3",
   "metadata": {},
   "source": [
    "### 3. How many version of Hamlet are there, when was the first made? the last?"
   ]
  },
  {
   "cell_type": "code",
   "execution_count": 19,
   "id": "1e421672",
   "metadata": {},
   "outputs": [
    {
     "name": "stdout",
     "output_type": "stream",
     "text": [
      "                                          title  year\n",
      "79939                                    Hamlet  1910\n",
      "129673                                   Hamlet  1911\n",
      "164637                                   Hamlet  1913\n",
      "150955                       A Sagebrush Hamlet  1919\n",
      "221419                                   Hamlet  1921\n",
      "54760                        Han, hun og Hamlet  1922\n",
      "161129                       Han, hun og Hamlet  1932\n",
      "221201                                   Hamlet  1948\n",
      "220568                                   Hamlet  1954\n",
      "132525                              Hamlet (II)  1964\n",
      "113670                                   Hamlet  1964\n",
      "73929                                    Hamlet  1969\n",
      "204180                                   Hamlet  1973\n",
      "93945       Predstava 'Hamleta' u Mrdusi Donjoj  1974\n",
      "64116                                    Hamlet  1976\n",
      "21870               Intikam Melegi/Kadin Hamlet  1976\n",
      "121873                   Hamlet liikemaailmassa  1987\n",
      "144085                                   Hamlet  1987\n",
      "46606                 Hamlet: Prince of Denmark  1989\n",
      "174856                                   Hamlet  1990\n",
      "156416                             H for Hamlet  1993\n",
      "37189                     Green Eggs and Hamlet  1995\n",
      "144430                              Fuck Hamlet  1996\n",
      "213476                                   Hamlet  1996\n",
      "212010                Hamlet, Prince of Denmark  1997\n",
      "141682                                   Hamlet  2000\n",
      "65095                    Hamlet in the Hamptons  2002\n",
      "118867                                 Hamlet X  2004\n",
      "59877           Dogg's Hamlet, Cahoot's Macbeth  2005\n",
      "64852   The Tragedy of Hamlet Prince of Denmark  2007\n",
      "217918                             Hamlet (III)  2007\n",
      "162869                              Hamlet (II)  2007\n",
      "5449                                   Hamlet 2  2008\n",
      "225277                Hamlet the Vampire Slayer  2008\n",
      "25028                                    Hamlet  2009\n",
      "147131                           Kitchen Hamlet  2009\n",
      "86523                      Hamlet Demonstration  2011\n",
      "137240                                   Hamlet  2011\n",
      "129241                            Zombie Hamlet  2012\n",
      "192154                           Hamlet Unbound  2012\n",
      "164727                      Harry, Hamlet and I  2013\n",
      "118331                                   Hamlet  2014\n",
      "18832                             Hamlet A.D.D.  2014\n",
      "10518                            Hamlet's Ghost  2015\n",
      "209296                 Hamlet, Son of a Kingpin  2015\n",
      "109822                                   Hamlet  2015\n",
      "148326            National Theatre Live: Hamlet  2015\n",
      "124281                              Hamlet (II)  2015\n",
      "219196        Royal Shakespeare Company: Hamlet  2016\n",
      "186870                                   Hamlet  2016\n",
      "77199                               Hamlet (II)  2017\n",
      "143179                           Hamlet/Horatio  2017\n",
      "207463                Hamlet in the Golden Vale  2017\n",
      "208380                                   Hamlet  2017\n",
      "202555            Hamlet: The Fall of a Sparrow  2018\n",
      "Total versions of Hamlet: 55\n"
     ]
    }
   ],
   "source": [
    "hamlet_all = titles[titles.title.str.contains(\"Hamlet\", na=False)]\n",
    "\n",
    "print(hamlet_all[['title', 'year']].sort_values(by='year'))\n",
    "\n",
    "print(\"Total versions of Hamlet:\", len(hamlet_all))"
   ]
  },
  {
   "cell_type": "markdown",
   "id": "3861b129-ee48-409b-bfe2-09b6a42bef37",
   "metadata": {},
   "source": [
    "There are 55 different versions of Hamlet that have been released in this dataset. The first one in 1910 and the most recent one in 2018. "
   ]
  },
  {
   "cell_type": "markdown",
   "id": "5650b610",
   "metadata": {},
   "source": [
    "### 4. List all the movies called Treasure Island from oldest to newest"
   ]
  },
  {
   "cell_type": "code",
   "execution_count": 21,
   "id": "636611d9",
   "metadata": {},
   "outputs": [
    {
     "name": "stdout",
     "output_type": "stream",
     "text": [
      "                  title  year\n",
      "180911  Treasure Island  1918\n",
      "108853  Treasure Island  1920\n",
      "87953   Treasure Island  1934\n",
      "126321  Treasure Island  1950\n",
      "190233  Treasure Island  1972\n",
      "122150  Treasure Island  1973\n",
      "52099   Treasure Island  1985\n",
      "36752   Treasure Island  1999\n"
     ]
    }
   ],
   "source": [
    "treasure_island = titles[titles.title == 'Treasure Island']\n",
    "treasure_island_sorted = treasure_island.sort_values(by='year')\n",
    "print(treasure_island_sorted[['title', 'year']])"
   ]
  },
  {
   "cell_type": "markdown",
   "id": "a94f4524",
   "metadata": {},
   "source": [
    "### 5. How many movies were made in 1950? 1980? 2000? What conclusions can you draw from these data points?"
   ]
  },
  {
   "cell_type": "code",
   "execution_count": 23,
   "id": "8d44bdb2",
   "metadata": {},
   "outputs": [
    {
     "name": "stdout",
     "output_type": "stream",
     "text": [
      "1950: 1109\n",
      "1980: 1750\n",
      "2000: 2568\n"
     ]
    }
   ],
   "source": [
    "print(\"1950:\", len(titles[titles.year == 1950]))\n",
    "print(\"1980:\", len(titles[titles.year == 1980]))\n",
    "print(\"2000:\", len(titles[titles.year == 2000]))"
   ]
  },
  {
   "cell_type": "markdown",
   "id": "17252043-3779-4fb4-92f4-6f335b1f1b8f",
   "metadata": {},
   "source": [
    "1,109 movies made in 1950. 1,750 movies made in 1980. 2,568 movies made in 2000. These data points tell me that the number of movies being made more than doubled in the 50 years from 1950-2000. The movie industry was expanding during this time and there was a growing demand for movies throughout the globe. "
   ]
  },
  {
   "cell_type": "markdown",
   "id": "0c34799c",
   "metadata": {},
   "source": [
    "### 6. How big was the cast of Metropolis\n"
   ]
  },
  {
   "cell_type": "code",
   "execution_count": 27,
   "id": "4461cc46",
   "metadata": {},
   "outputs": [
    {
     "data": {
      "text/html": [
       "<div>\n",
       "<style scoped>\n",
       "    .dataframe tbody tr th:only-of-type {\n",
       "        vertical-align: middle;\n",
       "    }\n",
       "\n",
       "    .dataframe tbody tr th {\n",
       "        vertical-align: top;\n",
       "    }\n",
       "\n",
       "    .dataframe thead th {\n",
       "        text-align: right;\n",
       "    }\n",
       "</style>\n",
       "<table border=\"1\" class=\"dataframe\">\n",
       "  <thead>\n",
       "    <tr style=\"text-align: right;\">\n",
       "      <th></th>\n",
       "      <th>title</th>\n",
       "      <th>year</th>\n",
       "      <th>name</th>\n",
       "      <th>type</th>\n",
       "      <th>character</th>\n",
       "      <th>n</th>\n",
       "    </tr>\n",
       "  </thead>\n",
       "  <tbody>\n",
       "    <tr>\n",
       "      <th>3416</th>\n",
       "      <td>Metropolis</td>\n",
       "      <td>1927</td>\n",
       "      <td>Alfred Abel</td>\n",
       "      <td>actor</td>\n",
       "      <td>Joh Fredersen</td>\n",
       "      <td>1.0</td>\n",
       "    </tr>\n",
       "    <tr>\n",
       "      <th>26389</th>\n",
       "      <td>Metropolis</td>\n",
       "      <td>1927</td>\n",
       "      <td>Fritz Alberti</td>\n",
       "      <td>actor</td>\n",
       "      <td>Creative Human - Man who Convinces Babel</td>\n",
       "      <td>NaN</td>\n",
       "    </tr>\n",
       "    <tr>\n",
       "      <th>193089</th>\n",
       "      <td>Metropolis</td>\n",
       "      <td>1927</td>\n",
       "      <td>Erwin Biswanger</td>\n",
       "      <td>actor</td>\n",
       "      <td>11811 - Georgy</td>\n",
       "      <td>6.0</td>\n",
       "    </tr>\n",
       "    <tr>\n",
       "      <th>542995</th>\n",
       "      <td>Metropolis</td>\n",
       "      <td>1927</td>\n",
       "      <td>Max Dietze</td>\n",
       "      <td>actor</td>\n",
       "      <td>Working Man</td>\n",
       "      <td>NaN</td>\n",
       "    </tr>\n",
       "    <tr>\n",
       "      <th>709318</th>\n",
       "      <td>Metropolis</td>\n",
       "      <td>1927</td>\n",
       "      <td>Gustav Fröhlich</td>\n",
       "      <td>actor</td>\n",
       "      <td>Freder - Joh Fredersen's Son</td>\n",
       "      <td>2.0</td>\n",
       "    </tr>\n",
       "    <tr>\n",
       "      <th>747304</th>\n",
       "      <td>Metropolis</td>\n",
       "      <td>1927</td>\n",
       "      <td>Heinrich George</td>\n",
       "      <td>actor</td>\n",
       "      <td>Grot - the Guardian of the Heart Machine</td>\n",
       "      <td>7.0</td>\n",
       "    </tr>\n",
       "    <tr>\n",
       "      <th>789295</th>\n",
       "      <td>Metropolis</td>\n",
       "      <td>1927</td>\n",
       "      <td>Heinrich Gotho</td>\n",
       "      <td>actor</td>\n",
       "      <td>Master of Ceremonies</td>\n",
       "      <td>NaN</td>\n",
       "    </tr>\n",
       "    <tr>\n",
       "      <th>1015520</th>\n",
       "      <td>Metropolis</td>\n",
       "      <td>1927</td>\n",
       "      <td>Georg John</td>\n",
       "      <td>actor</td>\n",
       "      <td>Working Man Who Causes Explosion of M-Machine</td>\n",
       "      <td>NaN</td>\n",
       "    </tr>\n",
       "    <tr>\n",
       "      <th>1110313</th>\n",
       "      <td>Metropolis</td>\n",
       "      <td>1927</td>\n",
       "      <td>Rudolf Klein-Rogge</td>\n",
       "      <td>actor</td>\n",
       "      <td>C.A. Rotwang - the Inventor</td>\n",
       "      <td>3.0</td>\n",
       "    </tr>\n",
       "    <tr>\n",
       "      <th>1141892</th>\n",
       "      <td>Metropolis</td>\n",
       "      <td>1927</td>\n",
       "      <td>Walter Kuehle</td>\n",
       "      <td>actor</td>\n",
       "      <td>Working Man</td>\n",
       "      <td>NaN</td>\n",
       "    </tr>\n",
       "    <tr>\n",
       "      <th>1246757</th>\n",
       "      <td>Metropolis</td>\n",
       "      <td>1927</td>\n",
       "      <td>Theodor Loos</td>\n",
       "      <td>actor</td>\n",
       "      <td>Josaphat</td>\n",
       "      <td>5.0</td>\n",
       "    </tr>\n",
       "    <tr>\n",
       "      <th>1719286</th>\n",
       "      <td>Metropolis</td>\n",
       "      <td>1927</td>\n",
       "      <td>Fritz Rasp</td>\n",
       "      <td>actor</td>\n",
       "      <td>The Thin Man</td>\n",
       "      <td>4.0</td>\n",
       "    </tr>\n",
       "    <tr>\n",
       "      <th>1734020</th>\n",
       "      <td>Metropolis</td>\n",
       "      <td>1927</td>\n",
       "      <td>Hanns Leo Reich</td>\n",
       "      <td>actor</td>\n",
       "      <td>Marinus</td>\n",
       "      <td>NaN</td>\n",
       "    </tr>\n",
       "    <tr>\n",
       "      <th>1736598</th>\n",
       "      <td>Metropolis</td>\n",
       "      <td>1927</td>\n",
       "      <td>Arthur Reinhardt</td>\n",
       "      <td>actor</td>\n",
       "      <td>Working Man</td>\n",
       "      <td>NaN</td>\n",
       "    </tr>\n",
       "    <tr>\n",
       "      <th>1935963</th>\n",
       "      <td>Metropolis</td>\n",
       "      <td>1927</td>\n",
       "      <td>Curt Siodmak</td>\n",
       "      <td>actor</td>\n",
       "      <td>Working Man</td>\n",
       "      <td>NaN</td>\n",
       "    </tr>\n",
       "    <tr>\n",
       "      <th>2006109</th>\n",
       "      <td>Metropolis</td>\n",
       "      <td>1927</td>\n",
       "      <td>Olaf Storm</td>\n",
       "      <td>actor</td>\n",
       "      <td>Jan</td>\n",
       "      <td>NaN</td>\n",
       "    </tr>\n",
       "    <tr>\n",
       "      <th>2145535</th>\n",
       "      <td>Metropolis</td>\n",
       "      <td>1927</td>\n",
       "      <td>Erwin Vater</td>\n",
       "      <td>actor</td>\n",
       "      <td>Working Man</td>\n",
       "      <td>NaN</td>\n",
       "    </tr>\n",
       "    <tr>\n",
       "      <th>2172908</th>\n",
       "      <td>Metropolis</td>\n",
       "      <td>1927</td>\n",
       "      <td>Rolf von Goth</td>\n",
       "      <td>actor</td>\n",
       "      <td>Son in Eternal Gardens</td>\n",
       "      <td>NaN</td>\n",
       "    </tr>\n",
       "    <tr>\n",
       "      <th>2402830</th>\n",
       "      <td>Metropolis</td>\n",
       "      <td>1927</td>\n",
       "      <td>Grete Berger</td>\n",
       "      <td>actress</td>\n",
       "      <td>Working Woman</td>\n",
       "      <td>NaN</td>\n",
       "    </tr>\n",
       "    <tr>\n",
       "      <th>2422158</th>\n",
       "      <td>Metropolis</td>\n",
       "      <td>1927</td>\n",
       "      <td>Olly Boeheim</td>\n",
       "      <td>actress</td>\n",
       "      <td>Working Woman</td>\n",
       "      <td>NaN</td>\n",
       "    </tr>\n",
       "    <tr>\n",
       "      <th>2658590</th>\n",
       "      <td>Metropolis</td>\n",
       "      <td>1927</td>\n",
       "      <td>Ellen Frey</td>\n",
       "      <td>actress</td>\n",
       "      <td>Working Woman</td>\n",
       "      <td>NaN</td>\n",
       "    </tr>\n",
       "    <tr>\n",
       "      <th>2672124</th>\n",
       "      <td>Metropolis</td>\n",
       "      <td>1927</td>\n",
       "      <td>Beatrice Garga</td>\n",
       "      <td>actress</td>\n",
       "      <td>Woman of Eternal Gardens</td>\n",
       "      <td>NaN</td>\n",
       "    </tr>\n",
       "    <tr>\n",
       "      <th>2709135</th>\n",
       "      <td>Metropolis</td>\n",
       "      <td>1927</td>\n",
       "      <td>Dolly Grey</td>\n",
       "      <td>actress</td>\n",
       "      <td>Working Woman</td>\n",
       "      <td>NaN</td>\n",
       "    </tr>\n",
       "    <tr>\n",
       "      <th>2748716</th>\n",
       "      <td>Metropolis</td>\n",
       "      <td>1927</td>\n",
       "      <td>Brigitte Helm</td>\n",
       "      <td>actress</td>\n",
       "      <td>The Machine Man</td>\n",
       "      <td>8.0</td>\n",
       "    </tr>\n",
       "    <tr>\n",
       "      <th>2748717</th>\n",
       "      <td>Metropolis</td>\n",
       "      <td>1927</td>\n",
       "      <td>Brigitte Helm</td>\n",
       "      <td>actress</td>\n",
       "      <td>Maria</td>\n",
       "      <td>8.0</td>\n",
       "    </tr>\n",
       "    <tr>\n",
       "      <th>2759815</th>\n",
       "      <td>Metropolis</td>\n",
       "      <td>1927</td>\n",
       "      <td>Anny Hintze</td>\n",
       "      <td>actress</td>\n",
       "      <td>Woman of Eternal Gardens</td>\n",
       "      <td>NaN</td>\n",
       "    </tr>\n",
       "    <tr>\n",
       "      <th>2881041</th>\n",
       "      <td>Metropolis</td>\n",
       "      <td>1927</td>\n",
       "      <td>Margarete Lanner</td>\n",
       "      <td>actress</td>\n",
       "      <td>Lady in Car</td>\n",
       "      <td>NaN</td>\n",
       "    </tr>\n",
       "    <tr>\n",
       "      <th>2881042</th>\n",
       "      <td>Metropolis</td>\n",
       "      <td>1927</td>\n",
       "      <td>Margarete Lanner</td>\n",
       "      <td>actress</td>\n",
       "      <td>Woman of Eternal Gardens</td>\n",
       "      <td>NaN</td>\n",
       "    </tr>\n",
       "    <tr>\n",
       "      <th>2908248</th>\n",
       "      <td>Metropolis</td>\n",
       "      <td>1927</td>\n",
       "      <td>Rose Lichtenstein</td>\n",
       "      <td>actress</td>\n",
       "      <td>Working Woman</td>\n",
       "      <td>NaN</td>\n",
       "    </tr>\n",
       "    <tr>\n",
       "      <th>3256276</th>\n",
       "      <td>Metropolis</td>\n",
       "      <td>1927</td>\n",
       "      <td>Henrietta Siodmak</td>\n",
       "      <td>actress</td>\n",
       "      <td>Working Woman</td>\n",
       "      <td>NaN</td>\n",
       "    </tr>\n",
       "    <tr>\n",
       "      <th>3373844</th>\n",
       "      <td>Metropolis</td>\n",
       "      <td>1927</td>\n",
       "      <td>Helen von Münchofen</td>\n",
       "      <td>actress</td>\n",
       "      <td>Woman of Eternal Gardens</td>\n",
       "      <td>NaN</td>\n",
       "    </tr>\n",
       "    <tr>\n",
       "      <th>3391926</th>\n",
       "      <td>Metropolis</td>\n",
       "      <td>1927</td>\n",
       "      <td>Helene Weigel</td>\n",
       "      <td>actress</td>\n",
       "      <td>Working Woman</td>\n",
       "      <td>NaN</td>\n",
       "    </tr>\n",
       "    <tr>\n",
       "      <th>3413805</th>\n",
       "      <td>Metropolis</td>\n",
       "      <td>1927</td>\n",
       "      <td>Hilde Woitscheff</td>\n",
       "      <td>actress</td>\n",
       "      <td>Woman of Eternal Gardens</td>\n",
       "      <td>NaN</td>\n",
       "    </tr>\n",
       "  </tbody>\n",
       "</table>\n",
       "</div>"
      ],
      "text/plain": [
       "              title  year                 name     type  \\\n",
       "3416     Metropolis  1927          Alfred Abel    actor   \n",
       "26389    Metropolis  1927        Fritz Alberti    actor   \n",
       "193089   Metropolis  1927      Erwin Biswanger    actor   \n",
       "542995   Metropolis  1927           Max Dietze    actor   \n",
       "709318   Metropolis  1927      Gustav Fröhlich    actor   \n",
       "747304   Metropolis  1927      Heinrich George    actor   \n",
       "789295   Metropolis  1927       Heinrich Gotho    actor   \n",
       "1015520  Metropolis  1927           Georg John    actor   \n",
       "1110313  Metropolis  1927   Rudolf Klein-Rogge    actor   \n",
       "1141892  Metropolis  1927        Walter Kuehle    actor   \n",
       "1246757  Metropolis  1927         Theodor Loos    actor   \n",
       "1719286  Metropolis  1927           Fritz Rasp    actor   \n",
       "1734020  Metropolis  1927      Hanns Leo Reich    actor   \n",
       "1736598  Metropolis  1927     Arthur Reinhardt    actor   \n",
       "1935963  Metropolis  1927         Curt Siodmak    actor   \n",
       "2006109  Metropolis  1927           Olaf Storm    actor   \n",
       "2145535  Metropolis  1927          Erwin Vater    actor   \n",
       "2172908  Metropolis  1927        Rolf von Goth    actor   \n",
       "2402830  Metropolis  1927         Grete Berger  actress   \n",
       "2422158  Metropolis  1927         Olly Boeheim  actress   \n",
       "2658590  Metropolis  1927           Ellen Frey  actress   \n",
       "2672124  Metropolis  1927       Beatrice Garga  actress   \n",
       "2709135  Metropolis  1927           Dolly Grey  actress   \n",
       "2748716  Metropolis  1927        Brigitte Helm  actress   \n",
       "2748717  Metropolis  1927        Brigitte Helm  actress   \n",
       "2759815  Metropolis  1927          Anny Hintze  actress   \n",
       "2881041  Metropolis  1927     Margarete Lanner  actress   \n",
       "2881042  Metropolis  1927     Margarete Lanner  actress   \n",
       "2908248  Metropolis  1927    Rose Lichtenstein  actress   \n",
       "3256276  Metropolis  1927    Henrietta Siodmak  actress   \n",
       "3373844  Metropolis  1927  Helen von Münchofen  actress   \n",
       "3391926  Metropolis  1927        Helene Weigel  actress   \n",
       "3413805  Metropolis  1927     Hilde Woitscheff  actress   \n",
       "\n",
       "                                             character    n  \n",
       "3416                                     Joh Fredersen  1.0  \n",
       "26389         Creative Human - Man who Convinces Babel  NaN  \n",
       "193089                                  11811 - Georgy  6.0  \n",
       "542995                                     Working Man  NaN  \n",
       "709318                    Freder - Joh Fredersen's Son  2.0  \n",
       "747304        Grot - the Guardian of the Heart Machine  7.0  \n",
       "789295                            Master of Ceremonies  NaN  \n",
       "1015520  Working Man Who Causes Explosion of M-Machine  NaN  \n",
       "1110313                    C.A. Rotwang - the Inventor  3.0  \n",
       "1141892                                    Working Man  NaN  \n",
       "1246757                                       Josaphat  5.0  \n",
       "1719286                                   The Thin Man  4.0  \n",
       "1734020                                        Marinus  NaN  \n",
       "1736598                                    Working Man  NaN  \n",
       "1935963                                    Working Man  NaN  \n",
       "2006109                                            Jan  NaN  \n",
       "2145535                                    Working Man  NaN  \n",
       "2172908                         Son in Eternal Gardens  NaN  \n",
       "2402830                                  Working Woman  NaN  \n",
       "2422158                                  Working Woman  NaN  \n",
       "2658590                                  Working Woman  NaN  \n",
       "2672124                       Woman of Eternal Gardens  NaN  \n",
       "2709135                                  Working Woman  NaN  \n",
       "2748716                                The Machine Man  8.0  \n",
       "2748717                                          Maria  8.0  \n",
       "2759815                       Woman of Eternal Gardens  NaN  \n",
       "2881041                                    Lady in Car  NaN  \n",
       "2881042                       Woman of Eternal Gardens  NaN  \n",
       "2908248                                  Working Woman  NaN  \n",
       "3256276                                  Working Woman  NaN  \n",
       "3373844                       Woman of Eternal Gardens  NaN  \n",
       "3391926                                  Working Woman  NaN  \n",
       "3413805                       Woman of Eternal Gardens  NaN  "
      ]
     },
     "execution_count": 27,
     "metadata": {},
     "output_type": "execute_result"
    }
   ],
   "source": [
    "cast[cast.title == 'Metropolis']"
   ]
  },
  {
   "cell_type": "code",
   "execution_count": 29,
   "id": "d43aa7f6",
   "metadata": {},
   "outputs": [
    {
     "data": {
      "text/plain": [
       "33"
      ]
     },
     "execution_count": 29,
     "metadata": {},
     "output_type": "execute_result"
    }
   ],
   "source": [
    "len(cast[cast.title == 'Metropolis'])"
   ]
  },
  {
   "cell_type": "markdown",
   "id": "b55d01aa-fa11-4021-987b-d6429f15c249",
   "metadata": {},
   "source": [
    "The cast was 33 people for the movie Metropolis."
   ]
  },
  {
   "cell_type": "markdown",
   "id": "7dead3d7",
   "metadata": {},
   "source": [
    "### 7. How many roles for actors were there 1950's? 1990's"
   ]
  },
  {
   "cell_type": "code",
   "execution_count": 33,
   "id": "9f7336d3",
   "metadata": {},
   "outputs": [
    {
     "name": "stdout",
     "output_type": "stream",
     "text": [
      "1950s: 153559\n",
      "1990s: 245713\n"
     ]
    }
   ],
   "source": [
    "roles_1950s = cast[(cast.type == 'actor') & (cast.year >= 1950) & (cast.year < 1960)]\n",
    "print(\"1950s:\", roles_1950s.count().title)  # or any other column, like 'name'\n",
    "\n",
    "roles_1990s = cast[(cast.type == 'actor') & (cast.year >= 1990) & (cast.year < 2000)]\n",
    "print(\"1990s:\", roles_1990s.count().title)"
   ]
  },
  {
   "cell_type": "markdown",
   "id": "b1aef8f5-bf0b-4ab0-b3b6-bdb890d2c68a",
   "metadata": {},
   "source": [
    "There were 153,559 roles for actors in the 1950's. There were 245,713 roles for actors in the 1990's. This makes sense considering the increase in movies made that we saw from 1950 to 2000."
   ]
  },
  {
   "cell_type": "markdown",
   "id": "3c5ad9f2",
   "metadata": {},
   "source": [
    "### 8. How many roles for actors & actresses over time? Output should be a line graph"
   ]
  },
  {
   "cell_type": "code",
   "execution_count": 81,
   "id": "10265dff-e806-4df4-903c-e71b704b751f",
   "metadata": {},
   "outputs": [
    {
     "data": {
      "text/plain": [
       "<Axes: xlabel='year'>"
      ]
     },
     "execution_count": 81,
     "metadata": {},
     "output_type": "execute_result"
    },
    {
     "data": {
      "image/png": "[encoded data removed]",
      "text/plain": [
       "<Figure size 640x480 with 1 Axes>"
      ]
     },
     "metadata": {},
     "output_type": "display_data"
    }
   ],
   "source": [
    "roles_by_year = cast.groupby(['year', 'type']).size().unstack()\n",
    "\n",
    "roles_by_year = roles_by_year[roles_by_year.index <= 2017]\n",
    "\n",
    "roles_by_year.plot()"
   ]
  },
  {
   "cell_type": "markdown",
   "id": "aee6a156-de8f-49a5-8859-9c99437224c0",
   "metadata": {},
   "source": [
    "We can see an exponential growth is roles for actors and actresses over time. This speaks to the growth of the movie industry, especially from the 1990s to present."
   ]
  },
  {
   "cell_type": "markdown",
   "id": "5e3a04c7",
   "metadata": {},
   "source": [
    "### 9. How many \"leading roles\" were there in the 2000's?"
   ]
  },
  {
   "cell_type": "code",
   "execution_count": 47,
   "id": "01cc5e7f",
   "metadata": {},
   "outputs": [
    {
     "name": "stdout",
     "output_type": "stream",
     "text": [
      "Leading roles in the 2000s: 23593\n"
     ]
    }
   ],
   "source": [
    "leading_2000s = cast[(cast.n == 1) & (cast.year >= 2000) & (cast.year < 2010)]\n",
    "print(\"Leading roles in the 2000s:\", len(leading_2000s))"
   ]
  },
  {
   "cell_type": "markdown",
   "id": "fa3030de-9ab7-40cd-b593-22355a5e36e5",
   "metadata": {},
   "source": [
    "There were 23,593 leading roles in the 2000's"
   ]
  },
  {
   "cell_type": "markdown",
   "id": "a60c91b4",
   "metadata": {},
   "source": [
    "### 10. How many roles received no ranking in the 2000's? 1950's. What conclusions can you draw from these two data points?"
   ]
  },
  {
   "cell_type": "code",
   "execution_count": 49,
   "id": "4b729250",
   "metadata": {},
   "outputs": [
    {
     "name": "stdout",
     "output_type": "stream",
     "text": [
      "No ranking (2000s): 232037\n",
      "No ranking (1950s): 95406\n"
     ]
    }
   ],
   "source": [
    "no_rank_2000s = cast[(cast.n.isnull()) & (cast.year >= 2000) & (cast.year < 2010)]\n",
    "print(\"No ranking (2000s):\", len(no_rank_2000s))\n",
    "\n",
    "no_rank_1950s = cast[(cast.n.isnull()) & (cast.year >= 1950) & (cast.year < 1960)]\n",
    "print(\"No ranking (1950s):\", len(no_rank_1950s))"
   ]
  },
  {
   "cell_type": "markdown",
   "id": "209bde20-5b4e-4c4a-995b-c030371c9855",
   "metadata": {},
   "source": [
    "There were 95,406 roles with no ranking in the 1950's and 232,037 roles with no ranking in the 2000's. There are two conclusions that I draw from these data points. One is that since there is just an increase in the amount of movies made there are going to be more roles that do not get a ranking. Also the cast for movies probably got larger over time as there was more money going into the making of the movies meaning more roles with no rank as well. "
   ]
  },
  {
   "cell_type": "markdown",
   "id": "012faaa1-95fc-4383-8d11-14fc050f9050",
   "metadata": {},
   "source": [
    "### 11. Plot the number of films made in each decade"
   ]
  },
  {
   "cell_type": "code",
   "execution_count": 61,
   "id": "3f6c5b5a",
   "metadata": {},
   "outputs": [
    {
     "data": {
      "text/plain": [
       "<Axes: xlabel='decade'>"
      ]
     },
     "execution_count": 61,
     "metadata": {},
     "output_type": "execute_result"
    },
    {
     "data": {
      "image/png": "[encoded data removed]",
      "text/plain": [
       "<Figure size 640x480 with 1 Axes>"
      ]
     },
     "metadata": {},
     "output_type": "display_data"
    }
   ],
   "source": [
    "titles = titles[titles.year <= 2017].copy()\n",
    "\n",
    "titles['decade'] = titles['year'] // 10 * 10\n",
    "\n",
    "titles['decade'].value_counts().sort_index().plot()"
   ]
  },
  {
   "cell_type": "markdown",
   "id": "106b9dc6-670a-4181-8cd3-a9d2c4171e2d",
   "metadata": {},
   "source": [
    "This line chart matches everything that we have found in previous questions with this dataset. An exponential growth in movies and the big increase in the 1990's onward. Aligning with the increase of demand for movies and accessibility of production as well."
   ]
  },
  {
   "cell_type": "markdown",
   "id": "7b8b93e3",
   "metadata": {},
   "source": [
    "### 12. Plot the number of films with a Rustler character over time"
   ]
  },
  {
   "cell_type": "code",
   "execution_count": 63,
   "id": "ed1bce02",
   "metadata": {},
   "outputs": [
    {
     "data": {
      "text/plain": [
       "<Axes: xlabel='year'>"
      ]
     },
     "execution_count": 63,
     "metadata": {},
     "output_type": "execute_result"
    },
    {
     "data": {
      "image/png": "[encoded data removed]",
      "text/plain": [
       "<Figure size 640x480 with 1 Axes>"
      ]
     },
     "metadata": {},
     "output_type": "display_data"
    }
   ],
   "source": [
    "rustler = cast[cast.character == \"Rustler\"]\n",
    "\n",
    "rustler_unique = rustler.drop_duplicates(subset=['title', 'year'])\n",
    "\n",
    "rustler_unique['year'].value_counts().sort_index().plot()"
   ]
  },
  {
   "cell_type": "markdown",
   "id": "7b7712ee-b5f8-4293-8a66-5179df434cf9",
   "metadata": {},
   "source": [
    "We can see the popularity of the Rustler character in the 1930's as westerns are very popular in that time frame. Then we see it slowly die off in the 1950's."
   ]
  },
  {
   "cell_type": "markdown",
   "id": "1df5a8a7",
   "metadata": {},
   "source": [
    "### 13. What are the top ten character names of all time?"
   ]
  },
  {
   "cell_type": "code",
   "execution_count": 65,
   "id": "fc30c391",
   "metadata": {},
   "outputs": [
    {
     "name": "stdout",
     "output_type": "stream",
     "text": [
      "character\n",
      "Himself        19637\n",
      "Dancer         12019\n",
      "Extra          10848\n",
      "Reporter        7818\n",
      "Doctor          6963\n",
      "Party Guest     6786\n",
      "Student         6631\n",
      "Policeman       6424\n",
      "Bartender       6290\n",
      "Herself         6269\n",
      "Name: count, dtype: int64\n"
     ]
    }
   ],
   "source": [
    "top_characters = cast['character'].value_counts().head(10)\n",
    "print(top_characters)"
   ]
  },
  {
   "cell_type": "markdown",
   "id": "015e3f46-514d-49e0-b678-7090bd20de10",
   "metadata": {},
   "source": [
    "Funny list but it makes sense how the most common character names of all times are all people who play extras and may be in the movie for one scene. The top character name being himself is probably because so many biopics, interviews or true stories are made with people playing themselves. "
   ]
  },
  {
   "cell_type": "markdown",
   "id": "febd5c97",
   "metadata": {},
   "source": [
    "### 14. Which actor appeared in the most films in the 1990's decade?"
   ]
  },
  {
   "cell_type": "code",
   "execution_count": 67,
   "id": "ed10c4df",
   "metadata": {},
   "outputs": [
    {
     "name": "stdout",
     "output_type": "stream",
     "text": [
      "name\n",
      "Shakti Kapoor    143\n",
      "Name: count, dtype: int64\n"
     ]
    }
   ],
   "source": [
    "cast_1990s = cast[(cast.year >= 1990) & (cast.year < 2000)]\n",
    "\n",
    "top_actor = cast_1990s['name'].value_counts().head(1)\n",
    "print(top_actor)"
   ]
  },
  {
   "cell_type": "markdown",
   "id": "35101b87-9f27-46fe-a40b-a3bcc6d27c9c",
   "metadata": {},
   "source": [
    "Shakti Kapoor is a well known actor who has appeared in many Bollywood films, usually as the villain!"
   ]
  },
  {
   "cell_type": "markdown",
   "id": "b2d57a18",
   "metadata": {},
   "source": [
    "### 15. What are the top 10 roles that start with Science?"
   ]
  },
  {
   "cell_type": "code",
   "execution_count": 69,
   "id": "64b41362",
   "metadata": {},
   "outputs": [
    {
     "data": {
      "text/plain": [
       "character\n",
       "Science Teacher         57\n",
       "Science Fair Student     9\n",
       "Science Student          6\n",
       "Science Fair Judge       6\n",
       "Science Kid              5\n",
       "Science Fair Kid         5\n",
       "Science Reporter         5\n",
       "Science                  4\n",
       "Science Officer          3\n",
       "Science teacher          3\n",
       "Name: count, dtype: int64"
      ]
     },
     "execution_count": 69,
     "metadata": {},
     "output_type": "execute_result"
    }
   ],
   "source": [
    "science_roles = cast[cast.character.str.startswith('Science', na=False)]\n",
    "\n",
    "science_roles['character'].value_counts().head(10)"
   ]
  },
  {
   "cell_type": "markdown",
   "id": "7e37caf3",
   "metadata": {},
   "source": [
    "### 16. What film has the largest cast"
   ]
  },
  {
   "cell_type": "code",
   "execution_count": 71,
   "id": "1de674fc",
   "metadata": {},
   "outputs": [
    {
     "name": "stdout",
     "output_type": "stream",
     "text": [
      "title\n",
      "Around the World in 80 Days    1364\n",
      "Name: count, dtype: int64\n"
     ]
    }
   ],
   "source": [
    "cast_counts = cast['title'].value_counts()\n",
    "\n",
    "print(cast_counts.head(1))"
   ]
  },
  {
   "cell_type": "markdown",
   "id": "1cb6041f-f66f-4c21-8679-97e60adfdc3e",
   "metadata": {},
   "source": [
    "Around the World in 80 Days has the largest cast with 1,364 members"
   ]
  },
  {
   "cell_type": "markdown",
   "id": "3a1a26ba",
   "metadata": {},
   "source": [
    "### 17. Generate descriptive statistics for cast size. Briefly comment on the results"
   ]
  },
  {
   "cell_type": "code",
   "execution_count": 73,
   "id": "b0592c92",
   "metadata": {},
   "outputs": [
    {
     "name": "stdout",
     "output_type": "stream",
     "text": [
      "count    168254.000000\n",
      "mean         20.462491\n",
      "std          24.206663\n",
      "min           1.000000\n",
      "25%           6.000000\n",
      "50%          13.000000\n",
      "75%          26.000000\n",
      "max        1364.000000\n",
      "dtype: float64\n"
     ]
    }
   ],
   "source": [
    "cast_size = cast.groupby('title').size()\n",
    "\n",
    "print(cast_size.describe())"
   ]
  },
  {
   "cell_type": "markdown",
   "id": "c5649c06-f107-435f-9ad6-4edda5d3e01b",
   "metadata": {},
   "source": [
    "The average cast size for a movie is about 20 people which is surprising how small it is. There is a fair amount of standard deviation at 24 meaning that cast size varies a lot. Half of all the movies have a cast size of 13 members or less which is probably from the many movies made on a small budget."
   ]
  },
  {
   "cell_type": "markdown",
   "id": "57885f86",
   "metadata": {},
   "source": [
    "### 18. How many films has Natalie Portman been in in each year throughout her career?"
   ]
  },
  {
   "cell_type": "code",
   "execution_count": 75,
   "id": "e2457352",
   "metadata": {},
   "outputs": [
    {
     "data": {
      "text/plain": [
       "year\n",
       "1995    1\n",
       "1996    3\n",
       "1999    2\n",
       "2000    1\n",
       "2001    1\n",
       "2002    1\n",
       "2003    1\n",
       "2004    2\n",
       "2005    4\n",
       "2006    1\n",
       "2007    3\n",
       "2008    1\n",
       "2009    2\n",
       "2010    3\n",
       "2011    3\n",
       "2013    1\n",
       "2015    4\n",
       "2016    3\n",
       "2017    1\n",
       "Name: count, dtype: int64"
      ]
     },
     "execution_count": 75,
     "metadata": {},
     "output_type": "execute_result"
    }
   ],
   "source": [
    "natalie = cast[cast.name == 'Natalie Portman']\n",
    "\n",
    "natalie_unique = natalie.drop_duplicates(subset=['title', 'year'])\n",
    "\n",
    "natalie_unique['year'].value_counts().sort_index()"
   ]
  },
  {
   "cell_type": "markdown",
   "id": "1bff19c5",
   "metadata": {},
   "source": [
    "### 19. How many films did Natalie Portman appear in each year where where she was either the top star or co-star?"
   ]
  },
  {
   "cell_type": "code",
   "execution_count": 77,
   "id": "e2f4d043",
   "metadata": {},
   "outputs": [
    {
     "data": {
      "text/plain": [
       "year\n",
       "1999    1\n",
       "2000    1\n",
       "2002    1\n",
       "2005    3\n",
       "2006    1\n",
       "2007    1\n",
       "2008    1\n",
       "2009    1\n",
       "2010    1\n",
       "2011    2\n",
       "2013    1\n",
       "2015    2\n",
       "2016    2\n",
       "Name: count, dtype: int64"
      ]
     },
     "execution_count": 77,
     "metadata": {},
     "output_type": "execute_result"
    }
   ],
   "source": [
    "natalie_top = cast[(cast.name == 'Natalie Portman') & (cast.n.isin([1, 2]))]\n",
    "\n",
    "natalie_top = natalie_top.drop_duplicates(subset=['title', 'year'])\n",
    "\n",
    "natalie_top['year'].value_counts().sort_index()"
   ]
  },
  {
   "cell_type": "markdown",
   "id": "8eda704b",
   "metadata": {},
   "source": [
    "### 20. Determine how many roles for actor or actress by decade. Plot the output "
   ]
  },
  {
   "cell_type": "code",
   "execution_count": 79,
   "id": "6abd6fe1",
   "metadata": {},
   "outputs": [
    {
     "data": {
      "text/plain": [
       "<Axes: xlabel='decade'>"
      ]
     },
     "execution_count": 79,
     "metadata": {},
     "output_type": "execute_result"
    },
    {
     "data": {
      "image/png": "[encoded data removed]",
      "text/plain": [
       "<Figure size 640x480 with 1 Axes>"
      ]
     },
     "metadata": {},
     "output_type": "display_data"
    }
   ],
   "source": [
    "cast_decades = cast[cast.year <= 2017].copy()\n",
    "\n",
    "cast_decades['decade'] = cast_decades['year'] // 10 * 10\n",
    "\n",
    "roles_decade = cast_decades.groupby(['decade', 'type']).size().unstack()\n",
    "\n",
    "roles_decade.plot()"
   ]
  },
  {
   "cell_type": "markdown",
   "id": "fffe663b",
   "metadata": {},
   "source": [
    "### 21. Determine and comment on the day of the week that movies are released. What is notable about release days and months throughout the year? (Use pd.pivot_table)"
   ]
  },
  {
   "cell_type": "code",
   "execution_count": 95,
   "id": "4bef1c77-4f97-4b90-a929-795e30cd3eb2",
   "metadata": {},
   "outputs": [
    {
     "data": {
      "text/html": [
       "<div>\n",
       "<style scoped>\n",
       "    .dataframe tbody tr th:only-of-type {\n",
       "        vertical-align: middle;\n",
       "    }\n",
       "\n",
       "    .dataframe tbody tr th {\n",
       "        vertical-align: top;\n",
       "    }\n",
       "\n",
       "    .dataframe thead th {\n",
       "        text-align: right;\n",
       "    }\n",
       "</style>\n",
       "<table border=\"1\" class=\"dataframe\">\n",
       "  <thead>\n",
       "    <tr style=\"text-align: right;\">\n",
       "      <th></th>\n",
       "      <th>title</th>\n",
       "    </tr>\n",
       "    <tr>\n",
       "      <th>weekday</th>\n",
       "      <th></th>\n",
       "    </tr>\n",
       "  </thead>\n",
       "  <tbody>\n",
       "    <tr>\n",
       "      <th>Friday</th>\n",
       "      <td>163174</td>\n",
       "    </tr>\n",
       "    <tr>\n",
       "      <th>Monday</th>\n",
       "      <td>37210</td>\n",
       "    </tr>\n",
       "    <tr>\n",
       "      <th>Saturday</th>\n",
       "      <td>31331</td>\n",
       "    </tr>\n",
       "    <tr>\n",
       "      <th>Sunday</th>\n",
       "      <td>15823</td>\n",
       "    </tr>\n",
       "    <tr>\n",
       "      <th>Thursday</th>\n",
       "      <td>125746</td>\n",
       "    </tr>\n",
       "    <tr>\n",
       "      <th>Tuesday</th>\n",
       "      <td>16762</td>\n",
       "    </tr>\n",
       "    <tr>\n",
       "      <th>Wednesday</th>\n",
       "      <td>53439</td>\n",
       "    </tr>\n",
       "  </tbody>\n",
       "</table>\n",
       "</div>"
      ],
      "text/plain": [
       "            title\n",
       "weekday          \n",
       "Friday     163174\n",
       "Monday      37210\n",
       "Saturday    31331\n",
       "Sunday      15823\n",
       "Thursday   125746\n",
       "Tuesday     16762\n",
       "Wednesday   53439"
      ]
     },
     "execution_count": 95,
     "metadata": {},
     "output_type": "execute_result"
    }
   ],
   "source": [
    "release_dates['date'] = pd.to_datetime(release_dates['date'])\n",
    "release_dates['weekday'] = release_dates['date'].dt.day_name()\n",
    "pd.pivot_table(release_dates, index='weekday', values='title', aggfunc='count')"
   ]
  },
  {
   "cell_type": "markdown",
   "id": "a48b7103-bbf2-48d1-938a-2a51c3a32852",
   "metadata": {},
   "source": [
    "Looking at which day of the week that movies are released, we see that the most movies are released on Friday and the second most on Thursday. This makes sense as they want people to see the movie over the weekend after it is released."
   ]
  },
  {
   "cell_type": "code",
   "execution_count": 97,
   "id": "c3cb7eca-4a02-428b-916a-eb73e2e6a150",
   "metadata": {},
   "outputs": [
    {
     "data": {
      "text/html": [
       "<div>\n",
       "<style scoped>\n",
       "    .dataframe tbody tr th:only-of-type {\n",
       "        vertical-align: middle;\n",
       "    }\n",
       "\n",
       "    .dataframe tbody tr th {\n",
       "        vertical-align: top;\n",
       "    }\n",
       "\n",
       "    .dataframe thead th {\n",
       "        text-align: right;\n",
       "    }\n",
       "</style>\n",
       "<table border=\"1\" class=\"dataframe\">\n",
       "  <thead>\n",
       "    <tr style=\"text-align: right;\">\n",
       "      <th></th>\n",
       "      <th>title</th>\n",
       "    </tr>\n",
       "    <tr>\n",
       "      <th>month</th>\n",
       "      <th></th>\n",
       "    </tr>\n",
       "  </thead>\n",
       "  <tbody>\n",
       "    <tr>\n",
       "      <th>April</th>\n",
       "      <td>37674</td>\n",
       "    </tr>\n",
       "    <tr>\n",
       "      <th>August</th>\n",
       "      <td>35011</td>\n",
       "    </tr>\n",
       "    <tr>\n",
       "      <th>December</th>\n",
       "      <td>39096</td>\n",
       "    </tr>\n",
       "    <tr>\n",
       "      <th>February</th>\n",
       "      <td>36307</td>\n",
       "    </tr>\n",
       "    <tr>\n",
       "      <th>January</th>\n",
       "      <td>39412</td>\n",
       "    </tr>\n",
       "    <tr>\n",
       "      <th>July</th>\n",
       "      <td>31421</td>\n",
       "    </tr>\n",
       "    <tr>\n",
       "      <th>June</th>\n",
       "      <td>32704</td>\n",
       "    </tr>\n",
       "    <tr>\n",
       "      <th>March</th>\n",
       "      <td>40257</td>\n",
       "    </tr>\n",
       "    <tr>\n",
       "      <th>May</th>\n",
       "      <td>35449</td>\n",
       "    </tr>\n",
       "    <tr>\n",
       "      <th>November</th>\n",
       "      <td>38200</td>\n",
       "    </tr>\n",
       "    <tr>\n",
       "      <th>October</th>\n",
       "      <td>40204</td>\n",
       "    </tr>\n",
       "    <tr>\n",
       "      <th>September</th>\n",
       "      <td>37750</td>\n",
       "    </tr>\n",
       "  </tbody>\n",
       "</table>\n",
       "</div>"
      ],
      "text/plain": [
       "           title\n",
       "month           \n",
       "April      37674\n",
       "August     35011\n",
       "December   39096\n",
       "February   36307\n",
       "January    39412\n",
       "July       31421\n",
       "June       32704\n",
       "March      40257\n",
       "May        35449\n",
       "November   38200\n",
       "October    40204\n",
       "September  37750"
      ]
     },
     "execution_count": 97,
     "metadata": {},
     "output_type": "execute_result"
    }
   ],
   "source": [
    "release_dates['month'] = release_dates['date'].dt.month_name()\n",
    "pd.pivot_table(release_dates, index='month', values='title', aggfunc='count')"
   ]
  },
  {
   "cell_type": "markdown",
   "id": "b6c470ba-02af-4bc8-bc80-8e3d46165376",
   "metadata": {},
   "source": [
    "Looking at which month movies are released in it is pretty consistent throughout the year. October, December, and January are at the top end which is probably because movies based on Halloween or the Holidays being released in these month. The month with the most movies released is March and not sure why."
   ]
  },
  {
   "cell_type": "code",
   "execution_count": 111,
   "id": "36ab4b24-66cc-443a-9802-73014212d1e2",
   "metadata": {},
   "outputs": [
    {
     "data": {
      "text/html": [
       "<div>\n",
       "<style scoped>\n",
       "    .dataframe tbody tr th:only-of-type {\n",
       "        vertical-align: middle;\n",
       "    }\n",
       "\n",
       "    .dataframe tbody tr th {\n",
       "        vertical-align: top;\n",
       "    }\n",
       "\n",
       "    .dataframe thead th {\n",
       "        text-align: right;\n",
       "    }\n",
       "</style>\n",
       "<table border=\"1\" class=\"dataframe\">\n",
       "  <thead>\n",
       "    <tr style=\"text-align: right;\">\n",
       "      <th>month</th>\n",
       "      <th>April</th>\n",
       "      <th>August</th>\n",
       "      <th>December</th>\n",
       "      <th>February</th>\n",
       "      <th>January</th>\n",
       "      <th>July</th>\n",
       "      <th>June</th>\n",
       "      <th>March</th>\n",
       "      <th>May</th>\n",
       "      <th>November</th>\n",
       "      <th>October</th>\n",
       "      <th>September</th>\n",
       "    </tr>\n",
       "    <tr>\n",
       "      <th>weekday</th>\n",
       "      <th></th>\n",
       "      <th></th>\n",
       "      <th></th>\n",
       "      <th></th>\n",
       "      <th></th>\n",
       "      <th></th>\n",
       "      <th></th>\n",
       "      <th></th>\n",
       "      <th></th>\n",
       "      <th></th>\n",
       "      <th></th>\n",
       "      <th></th>\n",
       "    </tr>\n",
       "  </thead>\n",
       "  <tbody>\n",
       "    <tr>\n",
       "      <th>Friday</th>\n",
       "      <td>13559</td>\n",
       "      <td>13430</td>\n",
       "      <td>13020</td>\n",
       "      <td>13833</td>\n",
       "      <td>13734</td>\n",
       "      <td>11635</td>\n",
       "      <td>11997</td>\n",
       "      <td>15268</td>\n",
       "      <td>13198</td>\n",
       "      <td>14084</td>\n",
       "      <td>14893</td>\n",
       "      <td>14523</td>\n",
       "    </tr>\n",
       "    <tr>\n",
       "      <th>Monday</th>\n",
       "      <td>3168</td>\n",
       "      <td>2844</td>\n",
       "      <td>3240</td>\n",
       "      <td>3138</td>\n",
       "      <td>3699</td>\n",
       "      <td>2267</td>\n",
       "      <td>2337</td>\n",
       "      <td>3383</td>\n",
       "      <td>3050</td>\n",
       "      <td>3372</td>\n",
       "      <td>3551</td>\n",
       "      <td>3161</td>\n",
       "    </tr>\n",
       "    <tr>\n",
       "      <th>Saturday</th>\n",
       "      <td>2868</td>\n",
       "      <td>2277</td>\n",
       "      <td>3357</td>\n",
       "      <td>2395</td>\n",
       "      <td>2925</td>\n",
       "      <td>2291</td>\n",
       "      <td>2409</td>\n",
       "      <td>2742</td>\n",
       "      <td>2270</td>\n",
       "      <td>2546</td>\n",
       "      <td>2700</td>\n",
       "      <td>2551</td>\n",
       "    </tr>\n",
       "    <tr>\n",
       "      <th>Sunday</th>\n",
       "      <td>1358</td>\n",
       "      <td>1138</td>\n",
       "      <td>1813</td>\n",
       "      <td>1277</td>\n",
       "      <td>1822</td>\n",
       "      <td>894</td>\n",
       "      <td>1031</td>\n",
       "      <td>1228</td>\n",
       "      <td>1165</td>\n",
       "      <td>1342</td>\n",
       "      <td>1423</td>\n",
       "      <td>1332</td>\n",
       "    </tr>\n",
       "    <tr>\n",
       "      <th>Thursday</th>\n",
       "      <td>10625</td>\n",
       "      <td>9931</td>\n",
       "      <td>10666</td>\n",
       "      <td>10356</td>\n",
       "      <td>10746</td>\n",
       "      <td>8947</td>\n",
       "      <td>9469</td>\n",
       "      <td>11844</td>\n",
       "      <td>10100</td>\n",
       "      <td>10859</td>\n",
       "      <td>11490</td>\n",
       "      <td>10713</td>\n",
       "    </tr>\n",
       "    <tr>\n",
       "      <th>Tuesday</th>\n",
       "      <td>1446</td>\n",
       "      <td>1121</td>\n",
       "      <td>1903</td>\n",
       "      <td>1190</td>\n",
       "      <td>1823</td>\n",
       "      <td>1144</td>\n",
       "      <td>1179</td>\n",
       "      <td>1313</td>\n",
       "      <td>1377</td>\n",
       "      <td>1415</td>\n",
       "      <td>1542</td>\n",
       "      <td>1309</td>\n",
       "    </tr>\n",
       "    <tr>\n",
       "      <th>Wednesday</th>\n",
       "      <td>4650</td>\n",
       "      <td>4270</td>\n",
       "      <td>5097</td>\n",
       "      <td>4118</td>\n",
       "      <td>4663</td>\n",
       "      <td>4243</td>\n",
       "      <td>4282</td>\n",
       "      <td>4479</td>\n",
       "      <td>4289</td>\n",
       "      <td>4582</td>\n",
       "      <td>4605</td>\n",
       "      <td>4161</td>\n",
       "    </tr>\n",
       "  </tbody>\n",
       "</table>\n",
       "</div>"
      ],
      "text/plain": [
       "month      April  August  December  February  January   July   June  March  \\\n",
       "weekday                                                                      \n",
       "Friday     13559   13430     13020     13833    13734  11635  11997  15268   \n",
       "Monday      3168    2844      3240      3138     3699   2267   2337   3383   \n",
       "Saturday    2868    2277      3357      2395     2925   2291   2409   2742   \n",
       "Sunday      1358    1138      1813      1277     1822    894   1031   1228   \n",
       "Thursday   10625    9931     10666     10356    10746   8947   9469  11844   \n",
       "Tuesday     1446    1121      1903      1190     1823   1144   1179   1313   \n",
       "Wednesday   4650    4270      5097      4118     4663   4243   4282   4479   \n",
       "\n",
       "month        May  November  October  September  \n",
       "weekday                                         \n",
       "Friday     13198     14084    14893      14523  \n",
       "Monday      3050      3372     3551       3161  \n",
       "Saturday    2270      2546     2700       2551  \n",
       "Sunday      1165      1342     1423       1332  \n",
       "Thursday   10100     10859    11490      10713  \n",
       "Tuesday     1377      1415     1542       1309  \n",
       "Wednesday   4289      4582     4605       4161  "
      ]
     },
     "execution_count": 111,
     "metadata": {},
     "output_type": "execute_result"
    }
   ],
   "source": [
    "release_dates['date'] = pd.to_datetime(release_dates['date'])\n",
    "release_dates['weekday'] = release_dates['date'].dt.day_name()\n",
    "release_dates['month'] = release_dates['date'].dt.month_name()\n",
    "\n",
    "pivot = pd.pivot_table(release_dates, index='weekday', columns='month', values='title', aggfunc='count')\n",
    "\n",
    "pivot"
   ]
  },
  {
   "cell_type": "markdown",
   "id": "88b4b805",
   "metadata": {},
   "source": [
    "### 22. Can you plot the pivot table? Is the output \"correct\"? Can you fix it?"
   ]
  },
  {
   "cell_type": "code",
   "execution_count": 113,
   "id": "07152c8b",
   "metadata": {},
   "outputs": [
    {
     "data": {
      "text/plain": [
       "<Axes: xlabel='weekday'>"
      ]
     },
     "execution_count": 113,
     "metadata": {},
     "output_type": "execute_result"
    },
    {
     "data": {
      "image/png": "[encoded data removed]",
      "text/plain": [
       "<Figure size 1200x600 with 1 Axes>"
      ]
     },
     "metadata": {},
     "output_type": "display_data"
    }
   ],
   "source": [
    "pivot.plot(kind='bar', figsize=(12,6))"
   ]
  },
  {
   "cell_type": "markdown",
   "id": "0d09b1f8-58c9-4e04-b7e9-480cd7b111d5",
   "metadata": {},
   "source": [
    "So the weekdays and months are out of order. I can fix it by reordering the weekdays and months."
   ]
  },
  {
   "cell_type": "code",
   "execution_count": 117,
   "id": "acfa8c54-d395-4095-9e8a-e8206dbb321c",
   "metadata": {},
   "outputs": [
    {
     "data": {
      "text/plain": [
       "<Axes: title={'center': 'Movie Releases by Weekday and Month'}, xlabel='weekday'>"
      ]
     },
     "execution_count": 117,
     "metadata": {},
     "output_type": "execute_result"
    },
    {
     "data": {
      "image/png": "[encoded data removed]",
      "text/plain": [
       "<Figure size 1200x600 with 1 Axes>"
      ]
     },
     "metadata": {},
     "output_type": "display_data"
    }
   ],
   "source": [
    "weekday_order = ['Sunday','Monday', 'Tuesday', 'Wednesday', 'Thursday', 'Friday', 'Saturday']\n",
    "month_order = ['January', 'February', 'March', 'April', 'May', 'June',\n",
    "               'July', 'August', 'September', 'October', 'November', 'December']\n",
    "\n",
    "pivot_fixed = pivot.loc[weekday_order, month_order]\n",
    "\n",
    "pivot_fixed.plot(kind='bar', figsize=(12,6), title='Movie Releases by Weekday and Month')"
   ]
  },
  {
   "cell_type": "markdown",
   "id": "19fc8bc4",
   "metadata": {},
   "source": [
    "### 23. What films did actors in Star Wars go on to appear in? "
   ]
  },
  {
   "cell_type": "code",
   "execution_count": 123,
   "id": "35e5f456",
   "metadata": {},
   "outputs": [
    {
     "data": {
      "text/html": [
       "<div>\n",
       "<style scoped>\n",
       "    .dataframe tbody tr th:only-of-type {\n",
       "        vertical-align: middle;\n",
       "    }\n",
       "\n",
       "    .dataframe tbody tr th {\n",
       "        vertical-align: top;\n",
       "    }\n",
       "\n",
       "    .dataframe thead th {\n",
       "        text-align: right;\n",
       "    }\n",
       "</style>\n",
       "<table border=\"1\" class=\"dataframe\">\n",
       "  <thead>\n",
       "    <tr style=\"text-align: right;\">\n",
       "      <th></th>\n",
       "      <th>name</th>\n",
       "      <th>title</th>\n",
       "      <th>year</th>\n",
       "    </tr>\n",
       "  </thead>\n",
       "  <tbody>\n",
       "    <tr>\n",
       "      <th>1165945</th>\n",
       "      <td>Al Lampert</td>\n",
       "      <td>The Killing Edge</td>\n",
       "      <td>1984</td>\n",
       "    </tr>\n",
       "    <tr>\n",
       "      <th>1165943</th>\n",
       "      <td>Al Lampert</td>\n",
       "      <td>Licensed to Love and Kill</td>\n",
       "      <td>1979</td>\n",
       "    </tr>\n",
       "    <tr>\n",
       "      <th>1165942</th>\n",
       "      <td>Al Lampert</td>\n",
       "      <td>Hennessy</td>\n",
       "      <td>1975</td>\n",
       "    </tr>\n",
       "    <tr>\n",
       "      <th>1165941</th>\n",
       "      <td>Al Lampert</td>\n",
       "      <td>Big Zapper</td>\n",
       "      <td>1973</td>\n",
       "    </tr>\n",
       "    <tr>\n",
       "      <th>1165946</th>\n",
       "      <td>Al Lampert</td>\n",
       "      <td>The Spaceman and King Arthur</td>\n",
       "      <td>1979</td>\n",
       "    </tr>\n",
       "    <tr>\n",
       "      <th>...</th>\n",
       "      <td>...</td>\n",
       "      <td>...</td>\n",
       "      <td>...</td>\n",
       "    </tr>\n",
       "    <tr>\n",
       "      <th>935432</th>\n",
       "      <td>William Hootkins</td>\n",
       "      <td>Something to Believe In</td>\n",
       "      <td>1998</td>\n",
       "    </tr>\n",
       "    <tr>\n",
       "      <th>935431</th>\n",
       "      <td>William Hootkins</td>\n",
       "      <td>Raiders of the Lost Ark</td>\n",
       "      <td>1981</td>\n",
       "    </tr>\n",
       "    <tr>\n",
       "      <th>935430</th>\n",
       "      <td>William Hootkins</td>\n",
       "      <td>Hussy</td>\n",
       "      <td>1980</td>\n",
       "    </tr>\n",
       "    <tr>\n",
       "      <th>935448</th>\n",
       "      <td>William Hootkins</td>\n",
       "      <td>Zina</td>\n",
       "      <td>1985</td>\n",
       "    </tr>\n",
       "    <tr>\n",
       "      <th>935438</th>\n",
       "      <td>William Hootkins</td>\n",
       "      <td>The Miracle Maker</td>\n",
       "      <td>2000</td>\n",
       "    </tr>\n",
       "  </tbody>\n",
       "</table>\n",
       "<p>1294 rows × 3 columns</p>\n",
       "</div>"
      ],
      "text/plain": [
       "                     name                         title  year\n",
       "1165945        Al Lampert              The Killing Edge  1984\n",
       "1165943        Al Lampert     Licensed to Love and Kill  1979\n",
       "1165942        Al Lampert                      Hennessy  1975\n",
       "1165941        Al Lampert                    Big Zapper  1973\n",
       "1165946        Al Lampert  The Spaceman and King Arthur  1979\n",
       "...                   ...                           ...   ...\n",
       "935432   William Hootkins       Something to Believe In  1998\n",
       "935431   William Hootkins       Raiders of the Lost Ark  1981\n",
       "935430   William Hootkins                         Hussy  1980\n",
       "935448   William Hootkins                          Zina  1985\n",
       "935438   William Hootkins             The Miracle Maker  2000\n",
       "\n",
       "[1294 rows x 3 columns]"
      ]
     },
     "execution_count": 123,
     "metadata": {},
     "output_type": "execute_result"
    }
   ],
   "source": [
    "star_wars_cast = cast[cast.title == 'Star Wars']\n",
    "\n",
    "star_wars_actors = star_wars_cast['name'].unique()\n",
    "\n",
    "other = cast[cast.name.isin(star_wars_actors)]\n",
    "\n",
    "other = other[other.title != 'Star Wars']\n",
    "\n",
    "other[['name', 'title', 'year']].sort_values(by='name')"
   ]
  },
  {
   "cell_type": "markdown",
   "id": "78686045-4a37-4668-9f9f-4ba46945a716",
   "metadata": {},
   "source": [
    "A lot of other films as being in Star Wars probably opened many doors for the actors."
   ]
  }
 ],
 "metadata": {
  "kernelspec": {
   "display_name": "Python 3 (ipykernel)",
   "language": "python",
   "name": "python3"
  },
  "language_info": {
   "codemirror_mode": {
    "name": "ipython",
    "version": 3
   },
   "file_extension": ".py",
   "mimetype": "text/x-python",
   "name": "python",
   "nbconvert_exporter": "python",
   "pygments_lexer": "ipython3",
   "version": "3.12.4"
  }
 },
 "nbformat": 4,
 "nbformat_minor": 5
}
